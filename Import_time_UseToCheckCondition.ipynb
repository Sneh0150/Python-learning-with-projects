{
 "cells": [
  {
   "cell_type": "markdown",
   "id": "c227af0e-f676-4be2-9d5b-30af2c2ad546",
   "metadata": {},
   "source": [
    "### Write a program to wish user as per current time"
   ]
  },
  {
   "cell_type": "code",
   "execution_count": 2,
   "id": "5baae64f-5654-44ca-95e6-95e51e0c343c",
   "metadata": {},
   "outputs": [
    {
     "name": "stdout",
     "output_type": "stream",
     "text": [
      "Good morning!\n"
     ]
    }
   ],
   "source": [
    "import datetime\n",
    "\n",
    "# Get the current time from the local machine\n",
    "current_time = datetime.datetime.now()\n",
    "\n",
    "# Extract the hour from the current time\n",
    "current_hour = current_time.hour\n",
    "\n",
    "# Greet the user based on the time of day\n",
    "if current_hour < 12:\n",
    "    print(\"Good morning!\")\n",
    "elif 12 <= current_hour < 18:\n",
    "    print(\"Good afternoon!\")\n",
    "else:\n",
    "    print(\"Good evening!\")"
   ]
  },
  {
   "cell_type": "code",
   "execution_count": 4,
   "id": "cd1940a9-2b03-44f1-a9d1-aa4988e3a4d6",
   "metadata": {},
   "outputs": [
    {
     "name": "stdout",
     "output_type": "stream",
     "text": [
      "Good morning!\n"
     ]
    }
   ],
   "source": [
    "import time\n",
    "\n",
    "# Get the current hour from the local time using strftime\n",
    "current_hour = int(time.strftime(\"%H\"))\n",
    "\n",
    "# Greet the user based on the time of day\n",
    "if current_hour < 12:\n",
    "    print(\"Good morning!\")\n",
    "elif 12 <= current_hour < 18:\n",
    "    print(\"Good afternoon!\")\n",
    "else:\n",
    "    print(\"Good evening!\")"
   ]
  },
  {
   "cell_type": "code",
   "execution_count": null,
   "id": "e476336f-3c1b-4814-be00-bdcda9243ee1",
   "metadata": {},
   "outputs": [],
   "source": []
  }
 ],
 "metadata": {
  "kernelspec": {
   "display_name": "Python 3 (ipykernel)",
   "language": "python",
   "name": "python3"
  },
  "language_info": {
   "codemirror_mode": {
    "name": "ipython",
    "version": 3
   },
   "file_extension": ".py",
   "mimetype": "text/x-python",
   "name": "python",
   "nbconvert_exporter": "python",
   "pygments_lexer": "ipython3",
   "version": "3.12.4"
  }
 },
 "nbformat": 4,
 "nbformat_minor": 5
}
