{
 "cells": [
  {
   "cell_type": "code",
   "execution_count": 6,
   "id": "f0394457",
   "metadata": {},
   "outputs": [
    {
     "name": "stdout",
     "output_type": "stream",
     "text": [
      "Enter the first number 42\n",
      "42\n",
      "Enetr the second number 33\n",
      "33\n",
      "4233\n"
     ]
    }
   ],
   "source": [
    "Num1 = input(\"Enter the first number \" )\n",
    "print(int(Num1))\n",
    "Num2 = input(\"Enter the second number \")\n",
    "print(int(Num2))\n",
    "Result = Num1+ Num2\n",
    "print(Result)"
   ]
  },
  {
   "cell_type": "markdown",
   "id": "b8855c43",
   "metadata": {},
   "source": [
    "## Program One "
   ]
  },
  {
   "cell_type": "code",
   "execution_count": 7,
   "id": "33182b2f",
   "metadata": {},
   "outputs": [
    {
     "name": "stdout",
     "output_type": "stream",
     "text": [
      "What is your name Snehal\n",
      "Hello Snehal\n"
     ]
    }
   ],
   "source": [
    "# take input from user and greet the user\n",
    "\n",
    "print(\"Hello\"+\" \"+input(\"What is your name \"))"
   ]
  },
  {
   "cell_type": "markdown",
   "id": "a73a64be",
   "metadata": {},
   "source": [
    "## Brand name Generator"
   ]
  },
  {
   "cell_type": "code",
   "execution_count": 10,
   "id": "da92322a",
   "metadata": {},
   "outputs": [
    {
     "name": "stdout",
     "output_type": "stream",
     "text": [
      "What's the name of the city you grow up in? \n",
      "mumbai\n",
      "What's your pet name? \n",
      "Aalte\n",
      "Your Brand name could be mumbai Aalte\n"
     ]
    }
   ],
   "source": [
    "City= input(\"What's the name of the city you grow up in? \\n\")\n",
    "pet = input(\"What's your pet name? \\n\")\n",
    "print(\"Your Brand name could be \"+ City+\" \"+pet)"
   ]
  },
  {
   "cell_type": "markdown",
   "id": "8f3ff597",
   "metadata": {},
   "source": [
    "## Day 2 program"
   ]
  },
  {
   "cell_type": "code",
   "execution_count": 11,
   "id": "630edd74",
   "metadata": {},
   "outputs": [
    {
     "name": "stdout",
     "output_type": "stream",
     "text": [
      "H\n"
     ]
    }
   ],
   "source": [
    "## Subscritping\n",
    "\n",
    "print(\"Hello\"[0])"
   ]
  },
  {
   "cell_type": "code",
   "execution_count": 12,
   "id": "6c72d7ac",
   "metadata": {},
   "outputs": [
    {
     "name": "stdout",
     "output_type": "stream",
     "text": [
      "o\n"
     ]
    }
   ],
   "source": [
    "print(\"Hello\"[-1])"
   ]
  },
  {
   "cell_type": "code",
   "execution_count": 14,
   "id": "88bd4144",
   "metadata": {},
   "outputs": [
    {
     "name": "stdout",
     "output_type": "stream",
     "text": [
      "Enter any word javan\n",
      "The third charater of your word is v\n"
     ]
    }
   ],
   "source": [
    "# how to fetch digit from a number as index works only on string\n",
    "\n",
    "word = input(\"Enter any word \")\n",
    "third_Charater = word[2]\n",
    "print(\"The third charater of your word is\"+\" \"+third_Charater)"
   ]
  },
  {
   "cell_type": "code",
   "execution_count": 17,
   "id": "9347147b",
   "metadata": {},
   "outputs": [
    {
     "name": "stdout",
     "output_type": "stream",
     "text": [
      "Enter any number78945\n",
      "10\n"
     ]
    }
   ],
   "source": [
    "# now dealing with number \n",
    "\n",
    "num = input(\"Enter any number\")\n",
    "third_number = int(num[2])\n",
    "print(third_number+1)"
   ]
  },
  {
   "cell_type": "code",
   "execution_count": null,
   "id": "b8783c3b",
   "metadata": {},
   "outputs": [],
   "source": [
    "num = input(\"enter any number\")\n",
    "result = 0\n",
    "input_num = int(num)\n",
    "while(i<len(num))\n",
    "   result+=int(num)\n",
    " \n",
    "    "
   ]
  },
  {
   "cell_type": "markdown",
   "id": "2807afbc",
   "metadata": {},
   "source": [
    "## Tip Calculator"
   ]
  },
  {
   "cell_type": "code",
   "execution_count": 21,
   "id": "1c943130",
   "metadata": {},
   "outputs": [
    {
     "name": "stdout",
     "output_type": "stream",
     "text": [
      "Welcome to the tip Calculator\n",
      "What was the total bill? 500\n",
      "What percentage tip would you like to give? 10,12 or 15 15\n",
      "How many people to split the bill? 3\n",
      " the split for each person is 192\n"
     ]
    }
   ],
   "source": [
    "print(\"Welcome to the tip Calculator\")\n",
    "bill = float(input(\"What was the total bill? \"))\n",
    "tip = int(input(\"What percentage tip would you like to give? 10,12 or 15 \"))\n",
    "people = int(input(\"How many people to split the bill? \"))\n",
    "\n",
    "bill_Calculated = bill*tip/100 +bill\n",
    "\n",
    "bill_split= bill_Calculated/people\n",
    "final_amount = round(bill_split)\n",
    "\n",
    "print(f\" the split for each person is {final_amount}\")\n",
    "\n",
    "\n",
    "\n",
    "\n",
    "\n"
   ]
  },
  {
   "cell_type": "markdown",
   "id": "8bc7a7f3",
   "metadata": {},
   "source": [
    "### Day 3 If condtions \n",
    "#### Program: to check whether eligible for ride or not"
   ]
  },
  {
   "cell_type": "code",
   "execution_count": null,
   "id": "7404c28c",
   "metadata": {},
   "outputs": [],
   "source": [
    "print(\"'\\033[1m' Welcome to the rollercoaster! '\\033[0m' \")\n",
    "Height = int(input(\"Please enter your Height in cm\"))\n",
    "if(Height>120):\n",
    "    print(\"You can ride the roller coaster\")\n",
    "    age = int(input(\"Enter your age! \"))\n",
    "    if age <= 12:\n",
    "        print(\"you need to pay $5\")\n",
    "    elif 12<age<=18:\n",
    "        print(\"you need to pay $7\")\n",
    "    else:\n",
    "        print(\"you need to pay $12\")\n",
    "else:\n",
    "    print(\"Sorry! you have to grow taller before you ride\")"
   ]
  },
  {
   "cell_type": "code",
   "execution_count": null,
   "id": "edcac6dd",
   "metadata": {},
   "outputs": [],
   "source": []
  }
 ],
 "metadata": {
  "kernelspec": {
   "display_name": "Python 3 (ipykernel)",
   "language": "python",
   "name": "python3"
  },
  "language_info": {
   "codemirror_mode": {
    "name": "ipython",
    "version": 3
   },
   "file_extension": ".py",
   "mimetype": "text/x-python",
   "name": "python",
   "nbconvert_exporter": "python",
   "pygments_lexer": "ipython3",
   "version": "3.11.5"
  }
 },
 "nbformat": 4,
 "nbformat_minor": 5
}
