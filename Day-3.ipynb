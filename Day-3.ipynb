{
 "cells": [
  {
   "cell_type": "markdown",
   "id": "25c2820c",
   "metadata": {},
   "source": [
    "### Understanding your BMI\n"
   ]
  },
  {
   "cell_type": "code",
   "execution_count": 14,
   "id": "8e64c3f5",
   "metadata": {},
   "outputs": [
    {
     "name": "stdout",
     "output_type": "stream",
     "text": [
      " '\u001b[1m' Welcome to check your BMI '\u001b[0m'\n",
      "\n",
      " please enter your weight in kgs 64\n",
      "\n",
      " Please enter your height in meters 1.55\n",
      "As per your BMI you are slightly overweight\n"
     ]
    }
   ],
   "source": [
    "print(\" '\\033[1m' Welcome to check your BMI '\\033[0m'\")\n",
    "\n",
    "\n",
    "weight = int(input(\"\\n please enter your weight in kgs \"))\n",
    "height = float(input(\" Please enter your height in meters \"))\n",
    "\n",
    "BMI = weight/(height**2)\n",
    "\n",
    "if BMI<18.5:\n",
    "    print(\"As per your BMI you are underweight\")\n",
    "elif 18.5<=BMI<25:\n",
    "    print(\"AS per your BMI you are Normal weight\")\n",
    "elif 25<=BMI <30:\n",
    "    print(\"As per your BMI you are slightly overweight\")\n",
    "elif 30<=BMI <35:\n",
    "    print(\"As per your BMI you are obese\")\n",
    "else:\n",
    "    print(\"As per your BMI you are clinically obese\")\n",
    "\n"
   ]
  },
  {
   "cell_type": "markdown",
   "id": "59112ae0",
   "metadata": {},
   "source": [
    "### Python pizza delivery program"
   ]
  },
  {
   "cell_type": "code",
   "execution_count": 22,
   "id": "318ad407",
   "metadata": {},
   "outputs": [
    {
     "name": "stdout",
     "output_type": "stream",
     "text": [
      " '\u001b[1m' Thank you! for choosing Python Pizza Deliveries '\u001b[0m'\n",
      "What size of Pizza you want? S,M,L L\n",
      "The prize for Large Pizza is $25\n",
      "Do you want extra Pepperoni? y or n N\n",
      "Do you want extra Cheese? y or n N\n",
      "your final bill is $25\n"
     ]
    }
   ],
   "source": [
    "print(\" '\\033[1m' Thank you! for choosing Python Pizza Deliveries '\\033[0m'\")\n",
    "size = input(\"What size of Pizza you want? S,M,L \")\n",
    "bill =0\n",
    "if size ==\"S\":\n",
    "    print(\"The prize for Small Pizza is $15\")\n",
    "    bill = 15\n",
    "    pep = input(\"Do you want extra Pepperoni? y or n \")\n",
    "    if pep == 'y':\n",
    "        bill = bill + 3\n",
    "elif size ==\"M\":\n",
    "    print(\"The prize for Medium Pizza is $20\")\n",
    "    bill = 20\n",
    "    pep = input(\"Do you want extra Pepperoni? y or n \")\n",
    "    if pep == 'y':\n",
    "        bill= bill +4\n",
    "else:\n",
    "    print(\"The prize for Large Pizza is $25\")\n",
    "    bill= 25\n",
    "    pep = input(\"Do you want extra Pepperoni? y or n \")\n",
    "    if pep == 'y':\n",
    "        bill= bill +5\n",
    "        \n",
    "cheese= input(\"Do you want extra Cheese? y or n \")\n",
    "if cheese == \"y\":\n",
    "    bill= bill+2\n",
    "print(f\"your final bill is ${bill}\")\n",
    "\n"
   ]
  },
  {
   "cell_type": "markdown",
   "id": "02246430",
   "metadata": {},
   "source": [
    "### Love Calculator"
   ]
  },
  {
   "cell_type": "code",
   "execution_count": null,
   "id": "7079554e",
   "metadata": {},
   "outputs": [
    {
     "name": "stdout",
     "output_type": "stream",
     "text": [
      "The Love calculator is calculating your score...\n"
     ]
    }
   ],
   "source": [
    "print(\"The Love calculator is calculating your score...\")\n",
    "name1= input(\"please mention your name\")\n",
    "name2= input(\"please mention your partner's name\")\n",
    "\n",
    "# combining the two name together so that we have single string to check\n",
    "\n",
    "combine_name = name1+name2\n",
    "# lets convert all in lower case\n",
    "\n",
    "full_name = combine_name.lower()\n",
    "\n",
    "T=full_name.count(\"t\")\n",
    "R=full_name.count(\"r\")\n",
    "U=full_name.count(\"u\")\n",
    "E=full_name.count(\"e\")\n",
    "\n",
    "first_name=T+R+U+E\n",
    "\n",
    "L=full_name.count(\"l\")\n",
    "O=full_name.count(\"o\")\n",
    "V=full_name.count(\"v\")\n",
    "E=full_name.count(\"e\")\n",
    "\n",
    "Second_name=L+O+V+E\n",
    "score1 = str(first_name)+str(Second_name)\n",
    "score = int(score1)\n",
    "\n",
    "if (score<10) or (score>90):\n",
    "    print(f\"Your score is {score},you go together like coke and mentos\")\n",
    "elif (score>=40) and (score<=50):\n",
    "    print(f\"your score is {score},you are alright together.\")\n",
    "else:\n",
    "    print(f\"your score is {score}.\")"
   ]
  }
 ],
 "metadata": {
  "kernelspec": {
   "display_name": "Python 3 (ipykernel)",
   "language": "python",
   "name": "python3"
  },
  "language_info": {
   "codemirror_mode": {
    "name": "ipython",
    "version": 3
   },
   "file_extension": ".py",
   "mimetype": "text/x-python",
   "name": "python",
   "nbconvert_exporter": "python",
   "pygments_lexer": "ipython3",
   "version": "3.11.5"
  }
 },
 "nbformat": 4,
 "nbformat_minor": 5
}
