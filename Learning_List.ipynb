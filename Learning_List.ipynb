{
 "cells": [
  {
   "cell_type": "markdown",
   "id": "d4a0bdc5",
   "metadata": {},
   "source": [
    "### Basics of List in Python\n"
   ]
  },
  {
   "cell_type": "code",
   "execution_count": 1,
   "id": "1f2ef0ad",
   "metadata": {},
   "outputs": [
    {
     "name": "stdout",
     "output_type": "stream",
     "text": [
      "Celery\n",
      "Peaches\n"
     ]
    }
   ],
   "source": [
    "## creating two list and nesting two list\n",
    "\n",
    "fruits = [\"Strawberries\",\"Apple\",\"Grapes\",\"Peaches\",\"Pears\"]\n",
    "vegetable =[\"Spinach\",\"Celery\",\"Potatoes\"]\n",
    "\n",
    "Dirty_Dozen =[fruits,vegetable]\n",
    "\n",
    "print(Dirty_Dozen[1][1]) # 1 stand's for second list and in that 2 item \n",
    "\n",
    "print(Dirty_Dozen[0][3]) # 0 stand's for 1 list and in that 4th item\n"
   ]
  },
  {
   "cell_type": "markdown",
   "id": "8928571e",
   "metadata": {},
   "source": [
    "### Program to create Treasure Map"
   ]
  },
  {
   "cell_type": "code",
   "execution_count": 5,
   "id": "9d698508",
   "metadata": {},
   "outputs": [
    {
     "name": "stdout",
     "output_type": "stream",
     "text": [
      "Hiding your teasure with X marks the spot\n",
      "a3\n",
      "['@', '@', 'X']\n",
      "['@', '@', '@']\n",
      "['@', '@', '@']\n"
     ]
    }
   ],
   "source": [
    "line1 = [\"@\",\"@\",\"@\"]   #line1 line2 line3\n",
    "line2 = [\"@\",\"@\",\"@\"]   #0,1,2\n",
    "line3 = [\"@\",\"@\",\"@\"]\n",
    "\n",
    "map = [line1,line2,line3]\n",
    "print(\"Hiding your teasure with X marks the spot\")\n",
    "\n",
    "position = input()  #B3\n",
    "\n",
    "line_number = position[0].lower() # row number\n",
    "Row_number = int(position[1])-1  # col number\n",
    "\n",
    "abc =[\"a\",\"b\",\"c\"]\n",
    "col_index =abc.index(line_number)\n",
    "\n",
    "map[col_index][Row_number] = \"X\"\n",
    "\n",
    "print(f\"{line1}\\n{line2}\\n{line3}\")\n",
    "\n",
    "\n",
    "    \n",
    "    \n"
   ]
  }
 ],
 "metadata": {
  "kernelspec": {
   "display_name": "Python 3 (ipykernel)",
   "language": "python",
   "name": "python3"
  },
  "language_info": {
   "codemirror_mode": {
    "name": "ipython",
    "version": 3
   },
   "file_extension": ".py",
   "mimetype": "text/x-python",
   "name": "python",
   "nbconvert_exporter": "python",
   "pygments_lexer": "ipython3",
   "version": "3.11.5"
  }
 },
 "nbformat": 4,
 "nbformat_minor": 5
}
