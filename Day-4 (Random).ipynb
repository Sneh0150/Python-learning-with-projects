{
 "cells": [
  {
   "cell_type": "markdown",
   "id": "1651f617",
   "metadata": {},
   "source": [
    "###  Program to deal with Random Function"
   ]
  },
  {
   "cell_type": "code",
   "execution_count": 8,
   "id": "13636727",
   "metadata": {},
   "outputs": [
    {
     "name": "stdout",
     "output_type": "stream",
     "text": [
      "Heads\n"
     ]
    }
   ],
   "source": [
    "import random\n",
    "\n",
    "#print(\"Wellcom to Toss a Coin.\")\n",
    "#print(\"Press enter to Toss. \")\n",
    "\n",
    "random_side = random.randint(0,1)\n",
    "if random_side == 1:\n",
    "    print(\"Heads\")\n",
    "else:\n",
    "    print(\"Tail\")"
   ]
  },
  {
   "cell_type": "markdown",
   "id": "0ab8431a",
   "metadata": {},
   "source": [
    "###  Randomly selecting who will pay the Bill"
   ]
  },
  {
   "cell_type": "code",
   "execution_count": 12,
   "id": "3c632cb3",
   "metadata": {},
   "outputs": [
    {
     "name": "stdout",
     "output_type": "stream",
     "text": [
      "list of names Deepak, Harshit, Sagar, Faran \n",
      "the Bill is paid by Harshit .\n"
     ]
    }
   ],
   "source": [
    "names= input(\"list of names \")\n",
    "name_string = names.split(\", \")\n",
    "name_Len = len(name_string)\n",
    "\n",
    "random_select=random.randint(0,name_Len-1)\n",
    "print(f\"the Bill is paid by {name_string[random_select]} .\")"
   ]
  }
 ],
 "metadata": {
  "kernelspec": {
   "display_name": "Python 3 (ipykernel)",
   "language": "python",
   "name": "python3"
  },
  "language_info": {
   "codemirror_mode": {
    "name": "ipython",
    "version": 3
   },
   "file_extension": ".py",
   "mimetype": "text/x-python",
   "name": "python",
   "nbconvert_exporter": "python",
   "pygments_lexer": "ipython3",
   "version": "3.11.5"
  }
 },
 "nbformat": 4,
 "nbformat_minor": 5
}
