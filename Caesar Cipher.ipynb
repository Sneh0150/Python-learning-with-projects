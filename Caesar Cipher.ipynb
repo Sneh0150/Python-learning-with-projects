{
 "cells": [
  {
   "cell_type": "markdown",
   "id": "8ff98448-01ad-41c5-b052-536266883928",
   "metadata": {},
   "source": [
    "## final output with avoiding repetition of code"
   ]
  },
  {
   "cell_type": "code",
   "execution_count": 33,
   "id": "b6cb2de0-f5b1-4623-88e7-f7d1b17f049b",
   "metadata": {},
   "outputs": [
    {
     "name": "stdin",
     "output_type": "stream",
     "text": [
      "Type if you want to encrypt or decrypt your code:  encrypt\n",
      "Type your message:  tjeaz\n",
      "Key with which you want to shift:  4\n"
     ]
    },
    {
     "name": "stdout",
     "output_type": "stream",
     "text": [
      "Here is the encrypted result: xnied\n"
     ]
    }
   ],
   "source": [
    "alphabet = ['a','b','c','d','e','f','g','h','i','j','k','l','m','n','o','p','q','r','s','t','u','v','w','x','y','z']\n",
    "direction = input(\"Type if you want to encrypt or decrypt your code: \").lower()\n",
    "text = input(\"Type your message: \").lower()\n",
    "shift = int(input(\"Key with which you want to shift: \"))\n",
    "\n",
    "def caesar(original_text, shift_position, encrypt_or_decrypt):         \n",
    "    output_text = []                                 \n",
    "    if encrypt_or_decrypt == \"decrypt\":\n",
    "        shift_position *= -1  # Reverse the shift for decryption\n",
    "    \n",
    "    for letter in original_text:\n",
    "        if letter in alphabet:  # Check if the letter is in the alphabet\n",
    "            index = alphabet.index(letter)\n",
    "            shift_index = (index + shift_position) % len(alphabet)\n",
    "            output_text.append(alphabet[shift_index])\n",
    "        else:\n",
    "            output_text.append(letter)  # For spaces or special characters\n",
    "    \n",
    "    if encrypt_or_decrypt == \"encrypt\":\n",
    "        print(f\"Here is the encrypted result: {''.join(output_text)}\")\n",
    "    else:\n",
    "        print(f\"Here is the decrypted result: {''.join(output_text)}\")\n",
    "\n",
    "caesar(text, shift, direction)"
   ]
  },
  {
   "cell_type": "code",
   "execution_count": 29,
   "id": "d73485cf-1bc2-43c3-b4d9-105fb5c01e46",
   "metadata": {},
   "outputs": [
    {
     "name": "stdin",
     "output_type": "stream",
     "text": [
      "Type if you want to encrypt or decrypt your code:  decrypt\n",
      "Type your message:  xnied\n",
      "Key with which you want to shift:  4\n"
     ]
    },
    {
     "name": "stdout",
     "output_type": "stream",
     "text": [
      "Here is the encrypted result: treiz\n"
     ]
    }
   ],
   "source": [
    "alphabet = ['a','b','c','d','e','f','g','h','i','j','k','l','m','n','o','p','q','r','s','t','u','v','w','x','y','z']\n",
    "direction = input(\"Type if you want to encrypt or decrypt your code: \").lower()\n",
    "text = input(\"Type your message: \").lower()\n",
    "shift = int(input(\"Key with which you want to shift: \"))\n",
    "\n",
    "def caesar(original_text, shift_position,encrypt_or_decrypt):         \n",
    "    output_text = []                                 \n",
    "    for letter in original_text:\n",
    "       \n",
    "        if encrypt_or_decrypt==\"decrypt\":\n",
    "            shift_position= shift_position*(-1)     # for making number negative if 4 is shift then it become -4 in decrypt\n",
    "            \n",
    "        if letter in alphabet:  # Check if letter is in the alphabet\n",
    "            index = alphabet.index(letter)\n",
    "            shift_index = (index + shift_position) % len(alphabet)\n",
    "            output_text.append(alphabet[shift_index])\n",
    "        else:\n",
    "            output_text.append(letter)  # For spaces or special characters\n",
    "    print(f\"Here is the encrypted result: {''.join(output_text)}\")\n",
    "\n",
    "caesar(text,shift,direction)"
   ]
  },
  {
   "cell_type": "markdown",
   "id": "57d10035-4157-4632-8bea-5c8768d7d2a1",
   "metadata": {},
   "source": [
    "## Trail 2"
   ]
  },
  {
   "cell_type": "code",
   "execution_count": 31,
   "id": "9e2e8df3-b262-4741-825b-28e7eb261f09",
   "metadata": {},
   "outputs": [
    {
     "name": "stdin",
     "output_type": "stream",
     "text": [
      "Type if you want to encrypt or decrypt your code:  decrypt\n",
      "Type your message:  xnied\n",
      "Key with which you want to shift:  4\n"
     ]
    },
    {
     "name": "stdout",
     "output_type": "stream",
     "text": [
      "Here is the decrypted result: tjeaz\n"
     ]
    }
   ],
   "source": [
    "alphabet = ['a','b','c','d','e','f','g','h','i','j','k','l','m','n','o','p','q','r','s','t','u','v','w','x','y','z']\n",
    "direction = input(\"Type if you want to encrypt or decrypt your code: \").lower()\n",
    "text = input(\"Type your message: \").lower()\n",
    "shift = int(input(\"Key with which you want to shift: \"))\n",
    "\n",
    "def encrypt(original_text, shift_position):         \n",
    "    encrypt_text = []                                 \n",
    "    for letter in original_text:\n",
    "        if letter in alphabet:  # Check if letter is in the alphabet\n",
    "            index = alphabet.index(letter)\n",
    "            shift_index = (index + shift_position) % len(alphabet)\n",
    "            encrypt_text.append(alphabet[shift_index])\n",
    "        else:\n",
    "            encrypt_text.append(letter)  # For spaces or special characters\n",
    "    print(f\"Here is the encrypted result: {''.join(encrypt_text)}\")\n",
    "\n",
    "def decrypt(original_text, shift_position):          \n",
    "    decrypt_text = []                                 \n",
    "    for letter in original_text:\n",
    "        if letter in alphabet:  # Check if letter is in the alphabet\n",
    "            index = alphabet.index(letter)\n",
    "            shift_index = (index - shift_position) % len(alphabet)\n",
    "            decrypt_text.append(alphabet[shift_index])\n",
    "        else:\n",
    "            decrypt_text.append(letter)  # For spaces or special characters\n",
    "    print(f\"Here is the decrypted result: {''.join(decrypt_text)}\")   \n",
    "\n",
    "if direction == \"encrypt\":\n",
    "    encrypt(text, shift)\n",
    "elif direction == \"decrypt\":\n",
    "    decrypt(text, shift)\n",
    "else:\n",
    "    print(\"Invalid input\")"
   ]
  },
  {
   "cell_type": "markdown",
   "id": "66dbe11a-d802-4924-9170-e6ad9fdbc816",
   "metadata": {},
   "source": [
    "### Trial one"
   ]
  },
  {
   "cell_type": "markdown",
   "id": "f5f75f98-322b-446c-932b-2bb1c3505fad",
   "metadata": {},
   "source": [
    "## Trail 1"
   ]
  },
  {
   "cell_type": "code",
   "execution_count": 61,
   "id": "6e91ae5e-50a1-46de-bab5-d427e3bf1851",
   "metadata": {},
   "outputs": [
    {
     "name": "stdin",
     "output_type": "stream",
     "text": [
      "Type the shift number : 5\n",
      "Type your message:  sidzy\n"
     ]
    },
    {
     "name": "stdout",
     "output_type": "stream",
     "text": [
      "sidzy\n",
      "f\n",
      "['x', 'n', 'i', 'e', 'd']\n",
      "The encryted code for input string is xnied\n"
     ]
    }
   ],
   "source": [
    "def user_choice(S):\n",
    "    user_input=input(\"Type your message: \")    #hello world\n",
    "#user_list=user_input.split(\" \")\n",
    "    print(user_input)\n",
    "    string=\"abcdefghijklmnopqrstuvwxyz\"\n",
    "    print(string[5])\n",
    "    output_list=[]                              #hello\n",
    "    for index,char in enumerate(user_input):\n",
    "        if char.isalpha():\n",
    "            id=string.find(char)+S\n",
    "            if id>25:\n",
    "                remaining_id=id-25\n",
    "                id=-1\n",
    "                id+=remaining_id\n",
    "                output_list.append(string[id])\n",
    "            else:\n",
    "                output_list.append(string[id])\n",
    "        else:\n",
    "            output_list.append(char)\n",
    "    print(output_list) \n",
    "    result=\"\".join(output_list)\n",
    "    print(f\"The encryted code for input string is {result}\") \n",
    "S=int(input(\"Type the shift number :\"))\n",
    "user_choice(S)      \n",
    "\n",
    "        "
   ]
  }
 ],
 "metadata": {
  "kernelspec": {
   "display_name": "Python 3 (ipykernel)",
   "language": "python",
   "name": "python3"
  },
  "language_info": {
   "codemirror_mode": {
    "name": "ipython",
    "version": 3
   },
   "file_extension": ".py",
   "mimetype": "text/x-python",
   "name": "python",
   "nbconvert_exporter": "python",
   "pygments_lexer": "ipython3",
   "version": "3.12.4"
  }
 },
 "nbformat": 4,
 "nbformat_minor": 5
}
