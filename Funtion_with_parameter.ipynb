{
 "cells": [
  {
   "cell_type": "markdown",
   "id": "e46c492a-68de-492e-bfaf-c6684cc2fc94",
   "metadata": {},
   "source": [
    "### Love Calculator ###\r\n",
    "💪 This is a difficult challenge! 💪 \r\n",
    "\r\n",
    "You are going to write a function called calculate_love_score() that tests the compatibility between two names.  To work out the love score between two people: \r\n",
    "\r\n",
    "1. Take both people's names and check for the number of times the letters in the word TRUE occurs.   \r\n",
    "\r\n",
    "2. Then check for the number of times the letters in the word LOVE occurs.   \r\n",
    "\r\n",
    "3. Then combine these numbers to make a 2 digit number and print it out."
   ]
  },
  {
   "cell_type": "code",
   "execution_count": 1,
   "id": "c8a0bebe-1520-4213-9072-05918f1308b6",
   "metadata": {},
   "outputs": [
    {
     "name": "stdout",
     "output_type": "stream",
     "text": [
      "Your love score is 53.\n"
     ]
    }
   ],
   "source": [
    "def calculate_love_score(name1, name2):\n",
    "    # Convert both names to lowercase and combine them\n",
    "    combined_names = (name1 + name2).lower()\n",
    "\n",
    "    # Count the occurrences of the letters in \"TRUE\"\n",
    "    true_count = combined_names.count('t') + combined_names.count('r') + combined_names.count('u') + combined_names.count('e')\n",
    "\n",
    "    # Count the occurrences of the letters in \"LOVE\"\n",
    "    love_count = combined_names.count('l') + combined_names.count('o') + combined_names.count('v') + combined_names.count('e')\n",
    "\n",
    "    # Combine the two counts to form a two-digit love score\n",
    "    love_score = int(str(true_count) + str(love_count))\n",
    "\n",
    "    # Print out the love score\n",
    "    print(f\"Your love score is {love_score}.\")\n",
    "\n",
    "# Example usage\n",
    "name1 = \"Angela Yu\"\n",
    "name2 = \"Jack Bauer\"\n",
    "calculate_love_score(name1, name2)"
   ]
  },
  {
   "cell_type": "code",
   "execution_count": null,
   "id": "8e1716a8-b243-4006-a65f-1fcccc9c2744",
   "metadata": {},
   "outputs": [],
   "source": []
  }
 ],
 "metadata": {
  "kernelspec": {
   "display_name": "Python 3 (ipykernel)",
   "language": "python",
   "name": "python3"
  },
  "language_info": {
   "codemirror_mode": {
    "name": "ipython",
    "version": 3
   },
   "file_extension": ".py",
   "mimetype": "text/x-python",
   "name": "python",
   "nbconvert_exporter": "python",
   "pygments_lexer": "ipython3",
   "version": "3.11.7"
  }
 },
 "nbformat": 4,
 "nbformat_minor": 5
}
